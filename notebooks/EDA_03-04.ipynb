{
  "metadata": {
    "kernelspec": {
      "name": "python",
      "display_name": "Python (Pyodide)",
      "language": "python"
    },
    "language_info": {
      "codemirror_mode": {
        "name": "python",
        "version": 3
      },
      "file_extension": ".py",
      "mimetype": "text/x-python",
      "name": "python",
      "nbconvert_exporter": "python",
      "pygments_lexer": "ipython3",
      "version": "3.8"
    }
  },
  "nbformat_minor": 5,
  "nbformat": 4,
  "cells": [
    {
      "id": "8c602f99-3fb3-4a57-9a1b-7bacb0e35653",
      "cell_type": "code",
      "source": "# !unzip pzd_5.zip",
      "metadata": {
        "collapsed": true,
        "jupyter": {
          "outputs_hidden": true
        }
      },
      "outputs": [
        {
          "name": "stdout",
          "output_type": "stream",
          "text": "Archive:  pzd_5.zip\n,   creating: pzd_5/\n,  inflating: pzd_5/2022-01-01.csv    \n,  inflating: pzd_5/2022-01-02.csv    \n,  inflating: pzd_5/2022-01-03.csv    \n,  inflating: pzd_5/2022-01-04.csv    \n,  inflating: pzd_5/2022-01-05.csv    \n,  inflating: pzd_5/2022-01-06.csv    \n,  inflating: pzd_5/2022-01-07.csv    \n,  inflating: pzd_5/2022-01-08.csv    \n,  inflating: pzd_5/2022-01-09.csv    \n,  inflating: pzd_5/2022-01-10.csv    \n,  inflating: pzd_5/2022-01-12.csv    \n,  inflating: pzd_5/2022-01-13.csv    \n,  inflating: pzd_5/2022-01-21.csv    \n,  inflating: pzd_5/2022-01-22.csv    \n,  inflating: pzd_5/2022-01-23.csv    \n,  inflating: pzd_5/2022-01-24.csv    \n,  inflating: pzd_5/2022-01-25.csv    \n,  inflating: pzd_5/2022-01-26.csv    \n,  inflating: pzd_5/2022-01-27.csv    \n,  inflating: pzd_5/2022-01-28.csv    \n,  inflating: pzd_5/2022-01-29.csv    \n,  inflating: pzd_5/2022-01-30.csv    \n,  inflating: pzd_5/2022-01-31.csv    \n,  inflating: pzd_5/2023-01-01.csv    \n,  inflating: pzd_5/2023-01-02.csv    \n,  inflating: pzd_5/2023-01-03.csv    \n,  inflating: pzd_5/2023-01-04.csv    \n,  inflating: pzd_5/2023-01-05.csv    \n,  inflating: pzd_5/2023-01-06.csv    \n,  inflating: pzd_5/2023-01-07.csv    \n,  inflating: pzd_5/2023-01-08.csv    \n,  inflating: pzd_5/2023-01-09.csv    \n,  inflating: pzd_5/2023-01-10.csv    \n,  inflating: pzd_5/2023-01-11.csv    \n,  inflating: pzd_5/2023-01-12.csv    \n,  inflating: pzd_5/2023-01-13.csv    \n,  inflating: pzd_5/2023-01-14.csv    \n,  inflating: pzd_5/2023-01-15.csv    \n,  inflating: pzd_5/2023-01-16.csv    \n,  inflating: pzd_5/2023-01-17.csv    \n,  inflating: pzd_5/2023-01-18.csv    \n,  inflating: pzd_5/2023-01-19.csv    \n,  inflating: pzd_5/2023-01-20.csv    \n,  inflating: pzd_5/2023-01-21.csv    \n,  inflating: pzd_5/2023-01-22.csv    \n,  inflating: pzd_5/2023-01-23.csv    \n,  inflating: pzd_5/2023-01-24.csv    \n,  inflating: pzd_5/2023-01-25.csv    \n,  inflating: pzd_5/2023-01-26.csv    \n,  inflating: pzd_5/2023-01-27.csv    \n,  inflating: pzd_5/2023-01-28.csv    \n,  inflating: pzd_5/2023-01-29.csv    \n,  inflating: pzd_5/2023-01-30.csv    \n,  inflating: pzd_5/2023-01-31.csv    \n,  inflating: pzd_5/2023-02-01.csv    \n,  inflating: pzd_5/2023-02-02.csv    \n,  inflating: pzd_5/2023-02-03.csv    \n,  inflating: pzd_5/2023-02-04.csv    \n,  inflating: pzd_5/2023-02-05.csv    \n,  inflating: pzd_5/2023-02-06.csv    \n,  inflating: pzd_5/2023-02-07.csv    \n,  inflating: pzd_5/2023-02-08.csv    \n,  inflating: pzd_5/2023-02-09.csv    \n,  inflating: pzd_5/2023-02-10.csv    \n,  inflating: pzd_5/2023-02-11.csv    \n,  inflating: pzd_5/2023-02-12.csv    \n,  inflating: pzd_5/2023-02-13.csv    \n,  inflating: pzd_5/2023-02-14.csv    \n,  inflating: pzd_5/2023-02-15.csv    \n,  inflating: pzd_5/2023-02-16.csv    \n,  inflating: pzd_5/2023-02-17.csv    \n,  inflating: pzd_5/2023-02-18.csv    \n,  inflating: pzd_5/2023-02-19.csv    \n,  inflating: pzd_5/2023-02-20.csv    \n,  inflating: pzd_5/2023-02-21.csv    \n,  inflating: pzd_5/2023-02-22.csv    \n,  inflating: pzd_5/2023-02-23.csv    \n,  inflating: pzd_5/2023-02-24.csv    \n,  inflating: pzd_5/2023-02-25.csv    \n,  inflating: pzd_5/2023-02-26.csv    \n,  inflating: pzd_5/2023-02-27.csv    \n,  inflating: pzd_5/2023-02-28.csv    \n,  inflating: pzd_5/2023-03-01.csv    \n,  inflating: pzd_5/2023-03-02.csv    \n,  inflating: pzd_5/2023-03-03.csv    \n,  inflating: pzd_5/2023-03-04.csv    \n,  inflating: pzd_5/2023-03-05.csv    \n,  inflating: pzd_5/2023-03-06.csv    \n,  inflating: pzd_5/2023-03-07.csv    \n,  inflating: pzd_5/2023-03-08.csv    \n,  inflating: pzd_5/2023-03-09.csv    \n,  inflating: pzd_5/2023-03-10.csv    \n,  inflating: pzd_5/2023-03-11.csv    \n,  inflating: pzd_5/2023-03-12.csv    \n,  inflating: pzd_5/2023-03-13.csv    \n,  inflating: pzd_5/2023-03-14.csv    \n,  inflating: pzd_5/2023-03-15.csv    \n,  inflating: pzd_5/2023-03-16.csv    \n,  inflating: pzd_5/2023-03-17.csv    \n,  inflating: pzd_5/2023-03-18.csv    \n,  inflating: pzd_5/2023-03-19.csv    \n,  inflating: pzd_5/2023-03-20.csv    \n,  inflating: pzd_5/2023-03-21.csv    \n,  inflating: pzd_5/2023-03-22.csv    \n,  inflating: pzd_5/2023-03-23.csv    \n,  inflating: pzd_5/2023-03-24.csv    \n,  inflating: pzd_5/2023-03-25.csv    \n,  inflating: pzd_5/2023-03-26.csv    \n,  inflating: pzd_5/2023-03-27.csv    \n,  inflating: pzd_5/2023-03-28.csv    \n,  inflating: pzd_5/2023-03-29.csv    \n,  inflating: pzd_5/2023-03-30.csv    \n,  inflating: pzd_5/2023-03-31.csv    \n,  inflating: pzd_5/2023-04-01.csv    \n,  inflating: pzd_5/2023-04-02.csv    \n,  inflating: pzd_5/2023-04-03.csv    \n,  inflating: pzd_5/2023-04-04.csv    \n,  inflating: pzd_5/2023-04-05.csv    \n,  inflating: pzd_5/2023-04-06.csv    \n,  inflating: pzd_5/2023-04-07.csv    \n,  inflating: pzd_5/2023-04-08.csv    \n,  inflating: pzd_5/2023-04-09.csv    \n,  inflating: pzd_5/2023-04-10.csv    \n,  inflating: pzd_5/2023-04-11.csv    \n,  inflating: pzd_5/2023-04-12.csv    \n,  inflating: pzd_5/2023-04-13.csv    \n,  inflating: pzd_5/2023-04-14.csv    \n,  inflating: pzd_5/2023-04-15.csv    \n,  inflating: pzd_5/2023-04-16.csv    \n,  inflating: pzd_5/2023-04-17.csv    \n,  inflating: pzd_5/2023-04-18.csv    \n,  inflating: pzd_5/2023-04-19.csv    \n,  inflating: pzd_5/2023-04-20.csv    \n,  inflating: pzd_5/2023-04-21.csv    \n,  inflating: pzd_5/2023-04-22.csv    \n,  inflating: pzd_5/2023-04-23.csv    \n,  inflating: pzd_5/2023-04-24.csv    \n,  inflating: pzd_5/2023-04-25.csv    \n,  inflating: pzd_5/2023-04-26.csv    \n,  inflating: pzd_5/2023-04-27.csv    \n,  inflating: pzd_5/2023-04-28.csv    \n,  inflating: pzd_5/2023-04-29.csv    \n,  inflating: pzd_5/2023-04-30.csv    \n,  inflating: pzd_5/2023-05-01.csv    \n,  inflating: pzd_5/2023-05-02.csv    \n,  inflating: pzd_5/2023-05-03.csv    \n,  inflating: pzd_5/2023-05-04.csv    \n,  inflating: pzd_5/2023-05-05.csv    \n,  inflating: pzd_5/2023-05-06.csv    \n,  inflating: pzd_5/2023-05-07.csv    \n,  inflating: pzd_5/2023-05-08.csv    \n,  inflating: pzd_5/2023-05-09.csv    \n,  inflating: pzd_5/2023-05-10.csv    \n,  inflating: pzd_5/2023-05-11.csv    \n,  inflating: pzd_5/2023-05-12.csv    \n,  inflating: pzd_5/2023-05-13.csv    \n,  inflating: pzd_5/2023-05-14.csv    \n,  inflating: pzd_5/2023-05-15.csv    \n,  inflating: pzd_5/2023-05-16.csv    \n,  inflating: pzd_5/2023-05-17.csv    \n,  inflating: pzd_5/2023-05-18.csv    \n,  inflating: pzd_5/2023-05-19.csv    \n,  inflating: pzd_5/2023-05-20.csv    \n,  inflating: pzd_5/2023-05-21.csv    \n,  inflating: pzd_5/2023-05-22.csv    \n,  inflating: pzd_5/2023-05-23.csv    \n,  inflating: pzd_5/2023-05-24.csv    \n,  inflating: pzd_5/2023-05-25.csv    \n,  inflating: pzd_5/2023-05-26.csv    \n,  inflating: pzd_5/2023-05-27.csv    \n,  inflating: pzd_5/2023-05-28.csv    \n,  inflating: pzd_5/2023-05-29.csv    \n,  inflating: pzd_5/2023-05-30.csv    \n,  inflating: pzd_5/2023-05-31.csv    \n,  inflating: pzd_5/2023-06-01.csv    \n,  inflating: pzd_5/2023-06-02.csv    \n,  inflating: pzd_5/2023-06-03.csv    \n,  inflating: pzd_5/2023-06-04.csv    \n,  inflating: pzd_5/2023-06-05.csv    \n,  inflating: pzd_5/2023-06-06.csv    \n,  inflating: pzd_5/2023-06-07.csv    \n,  inflating: pzd_5/2023-06-08.csv    \n,  inflating: pzd_5/2023-06-09.csv    \n,  inflating: pzd_5/2023-06-10.csv    \n,  inflating: pzd_5/2023-06-11.csv    \n,  inflating: pzd_5/2023-06-12.csv    \n,  inflating: pzd_5/2023-06-13.csv    \n,  inflating: pzd_5/2023-06-14.csv    \n,  inflating: pzd_5/2023-06-15.csv    \n,  inflating: pzd_5/2023-06-16.csv    \n,  inflating: pzd_5/2023-06-17.csv    \n,  inflating: pzd_5/2023-06-18.csv    \n,  inflating: pzd_5/2023-06-19.csv    \n,  inflating: pzd_5/2023-06-20.csv    \n,  inflating: pzd_5/2023-06-21.csv    \n,  inflating: pzd_5/2023-06-22.csv    \n,  inflating: pzd_5/2023-06-23.csv    \n,  inflating: pzd_5/2023-06-24.csv    \n,  inflating: pzd_5/2023-06-25.csv    \n,  inflating: pzd_5/2023-06-26.csv    \n,  inflating: pzd_5/2023-06-27.csv    \n,  inflating: pzd_5/2023-06-28.csv    \n,  inflating: pzd_5/2023-06-29.csv    \n,  inflating: pzd_5/2023-06-30.csv    \n,  inflating: pzd_5/2023-07-01.csv    \n,  inflating: pzd_5/2023-07-02.csv    \n,  inflating: pzd_5/2023-07-03.csv    \n,  inflating: pzd_5/2023-07-04.csv    \n,  inflating: pzd_5/2023-07-05.csv    \n,  inflating: pzd_5/2023-07-06.csv    \n,  inflating: pzd_5/2023-07-07.csv    \n,  inflating: pzd_5/2023-07-08.csv    \n,  inflating: pzd_5/2023-07-09.csv    \n,  inflating: pzd_5/2023-07-10.csv    \n,  inflating: pzd_5/2023-07-11.csv    \n,  inflating: pzd_5/2023-07-12.csv    \n,  inflating: pzd_5/2023-07-13.csv    \n,  inflating: pzd_5/2023-07-14.csv    \n,  inflating: pzd_5/2023-07-15.csv    \n,  inflating: pzd_5/2023-07-16.csv    \n,  inflating: pzd_5/2023-07-17.csv    \n,  inflating: pzd_5/2023-07-18.csv    \n,  inflating: pzd_5/2023-07-19.csv    \n,  inflating: pzd_5/2023-07-20.csv    \n,  inflating: pzd_5/2023-07-21.csv    \n,  inflating: pzd_5/2023-07-22.csv    \n,  inflating: pzd_5/2023-07-23.csv    \n,  inflating: pzd_5/2023-07-24.csv    \n,  inflating: pzd_5/2023-07-25.csv    \n,  inflating: pzd_5/2023-07-26.csv    \n,  inflating: pzd_5/2023-07-27.csv    \n,  inflating: pzd_5/2023-07-28.csv    \n,  inflating: pzd_5/2023-07-29.csv    \n,  inflating: pzd_5/2023-07-30.csv    \n,  inflating: pzd_5/2023-07-31.csv    \n,  inflating: pzd_5/2023-08-01.csv    \n,  inflating: pzd_5/2023-08-02.csv    \n,  inflating: pzd_5/2023-08-03.csv    \n,  inflating: pzd_5/2023-08-04.csv    \n,  inflating: pzd_5/2023-08-05.csv    \n,  inflating: pzd_5/2023-08-06.csv    \n,  inflating: pzd_5/2023-08-07.csv    \n,  inflating: pzd_5/2023-08-08.csv    \n,  inflating: pzd_5/2023-08-09.csv    \n,  inflating: pzd_5/2023-08-10.csv    \n,  inflating: pzd_5/2023-08-11.csv    \n,  inflating: pzd_5/2023-08-12.csv    \n,  inflating: pzd_5/2023-08-13.csv    \n,  inflating: pzd_5/2023-08-14.csv    \n,  inflating: pzd_5/2023-08-15.csv    \n,  inflating: pzd_5/2023-08-16.csv    \n,  inflating: pzd_5/2023-08-17.csv    \n,  inflating: pzd_5/2023-08-18.csv    \n,  inflating: pzd_5/2023-08-19.csv    \n,  inflating: pzd_5/2023-08-20.csv    \n,  inflating: pzd_5/2023-08-21.csv    \n,  inflating: pzd_5/2023-08-22.csv    \n,  inflating: pzd_5/2023-08-23.csv    \n,  inflating: pzd_5/2023-08-24.csv    \n,  inflating: pzd_5/2023-08-25.csv    \n,  inflating: pzd_5/2023-08-26.csv    \n,  inflating: pzd_5/2023-08-27.csv    \n,  inflating: pzd_5/2023-08-28.csv    \n,  inflating: pzd_5/2023-08-29.csv    \n,  inflating: pzd_5/2023-08-30.csv    \n,  inflating: pzd_5/2023-08-31.csv    \n,  inflating: pzd_5/2023-09-01.csv    \n,  inflating: pzd_5/2023-09-02.csv    \n,  inflating: pzd_5/2023-09-03.csv    \n,  inflating: pzd_5/2023-09-04.csv    \n,  inflating: pzd_5/2023-09-05.csv    \n,  inflating: pzd_5/2023-09-06.csv    \n,  inflating: pzd_5/2023-09-07.csv    \n,  inflating: pzd_5/2023-09-08.csv    \n,  inflating: pzd_5/2023-09-09.csv    \n,  inflating: pzd_5/2023-09-10.csv    \n,  inflating: pzd_5/2023-09-11.csv    \n,  inflating: pzd_5/2023-09-12.csv    \n,  inflating: pzd_5/2023-09-13.csv    \n,  inflating: pzd_5/2023-09-14.csv    \n,  inflating: pzd_5/2023-09-15.csv    \n,  inflating: pzd_5/2023-09-16.csv    \n,  inflating: pzd_5/2023-09-17.csv    \n,  inflating: pzd_5/2023-09-18.csv    \n,  inflating: pzd_5/2023-09-19.csv    \n,  inflating: pzd_5/2023-09-20.csv    \n,  inflating: pzd_5/2023-09-21.csv    \n,  inflating: pzd_5/2023-09-22.csv    \n,  inflating: pzd_5/2023-09-23.csv    \n,  inflating: pzd_5/2023-09-24.csv    \n,  inflating: pzd_5/2023-09-25.csv    \n,  inflating: pzd_5/2023-09-26.csv    \n,  inflating: pzd_5/2023-09-27.csv    \n,  inflating: pzd_5/2023-09-28.csv    \n,  inflating: pzd_5/2023-09-29.csv    \n,  inflating: pzd_5/2023-09-30.csv    \n,  inflating: pzd_5/2023-10-01.csv    \n,  inflating: pzd_5/2023-10-02.csv    \n,  inflating: pzd_5/2023-10-03.csv    \n,  inflating: pzd_5/2023-10-04.csv    \n,  inflating: pzd_5/2023-10-05.csv    \n,  inflating: pzd_5/2023-10-06.csv    \n,  inflating: pzd_5/2023-10-07.csv    \n,  inflating: pzd_5/2023-10-09.csv    \n,  inflating: pzd_5/2023-10-10.csv    \n,  inflating: pzd_5/2023-10-11.csv    \n,  inflating: pzd_5/2023-10-12.csv    \n,  inflating: pzd_5/2023-10-13.csv    \n,  inflating: pzd_5/2023-10-14.csv    \n,  inflating: pzd_5/2023-10-15.csv    \n,  inflating: pzd_5/2023-10-16.csv    \n,  inflating: pzd_5/2023-10-17.csv    \n,  inflating: pzd_5/2023-10-18.csv    \n,  inflating: pzd_5/2023-10-19.csv    \n,  inflating: pzd_5/2023-10-20.csv    \n,  inflating: pzd_5/2023-10-21.csv    \n,  inflating: pzd_5/2023-10-22.csv    \n,  inflating: pzd_5/2023-10-23.csv    \n,  inflating: pzd_5/2023-10-24.csv    \n,  inflating: pzd_5/2023-10-25.csv    \n,  inflating: pzd_5/2023-10-26.csv    \n,  inflating: pzd_5/2023-10-27.csv    \n,  inflating: pzd_5/2023-10-28.csv    \n,  inflating: pzd_5/2023-10-29.csv    \n,  inflating: pzd_5/2023-10-30.csv    \n,  inflating: pzd_5/2023-10-31.csv    \n,  inflating: pzd_5/2023-11-01.csv    \n,  inflating: pzd_5/2023-11-02.csv    \n,  inflating: pzd_5/2023-11-03.csv    \n,  inflating: pzd_5/2023-11-04.csv    \n,  inflating: pzd_5/2023-11-05.csv    \n,  inflating: pzd_5/2023-11-06.csv    \n,  inflating: pzd_5/2023-11-07.csv    \n,  inflating: pzd_5/2023-11-08.csv    \n,  inflating: pzd_5/2023-11-09.csv    \n,  inflating: pzd_5/2023-11-10.csv    \n,  inflating: pzd_5/2023-11-11.csv    \n,  inflating: pzd_5/2023-11-12.csv    \n,  inflating: pzd_5/2023-11-13.csv    \n,  inflating: pzd_5/2023-11-14.csv    \n,  inflating: pzd_5/2023-11-15.csv    \n,  inflating: pzd_5/2023-11-16.csv    \n,  inflating: pzd_5/2023-11-17.csv    \n,  inflating: pzd_5/2023-11-18.csv    \n,  inflating: pzd_5/2023-11-19.csv    \n,  inflating: pzd_5/2023-11-20.csv    \n,  inflating: pzd_5/2023-11-21.csv    \n,  inflating: pzd_5/2023-11-22.csv    \n,  inflating: pzd_5/2023-11-23.csv    \n,  inflating: pzd_5/2023-11-24.csv    \n,  inflating: pzd_5/2023-11-25.csv    \n,  inflating: pzd_5/2023-11-26.csv    \n,  inflating: pzd_5/2023-11-27.csv    \n,  inflating: pzd_5/2023-11-28.csv    \n,  inflating: pzd_5/2023-11-29.csv    \n,  inflating: pzd_5/2023-11-30.csv    \n,  inflating: pzd_5/2023-12-01.csv    \n,  inflating: pzd_5/2023-12-02.csv    \n,  inflating: pzd_5/2023-12-03.csv    \n,  inflating: pzd_5/2023-12-04.csv    \n,  inflating: pzd_5/2023-12-05.csv    \n,  inflating: pzd_5/2023-12-06.csv    \n,  inflating: pzd_5/2023-12-07.csv    \n,  inflating: pzd_5/2023-12-08.csv    \n,  inflating: pzd_5/2023-12-09.csv    \n,  inflating: pzd_5/2023-12-10.csv    \n,  inflating: pzd_5/2023-12-11.csv    \n,  inflating: pzd_5/2023-12-12.csv    \n,  inflating: pzd_5/2023-12-13.csv    \n,  inflating: pzd_5/2023-12-14.csv    \n,  inflating: pzd_5/2023-12-15.csv    \n,  inflating: pzd_5/2023-12-16.csv    \n,  inflating: pzd_5/2023-12-17.csv    \n,  inflating: pzd_5/2023-12-18.csv    \n,  inflating: pzd_5/2023-12-19.csv    \n,  inflating: pzd_5/2023-12-20.csv    \n,  inflating: pzd_5/2023-12-21.csv    \n,  inflating: pzd_5/2023-12-22.csv    \n,  inflating: pzd_5/2023-12-23.csv    \n,  inflating: pzd_5/2023-12-24.csv    \n,  inflating: pzd_5/2023-12-25.csv    \n,  inflating: pzd_5/2023-12-26.csv    \n,  inflating: pzd_5/2023-12-27.csv    \n,  inflating: pzd_5/2023-12-28.csv    \n,  inflating: pzd_5/2023-12-29.csv    \n,  inflating: pzd_5/2023-12-30.csv    \n,  inflating: pzd_5/2024-01-01.csv    \n,  inflating: pzd_5/2024-01-02.csv    \n,  inflating: pzd_5/2024-01-03.csv    \n,  inflating: pzd_5/2024-01-04.csv    \n,  inflating: pzd_5/2024-01-05.csv    \n,  inflating: pzd_5/2024-01-06.csv    \n,  inflating: pzd_5/2024-01-07.csv    \n,  inflating: pzd_5/2024-01-08.csv    \n,  inflating: pzd_5/2024-01-09.csv    \n,  inflating: pzd_5/2024-01-10.csv    \n,  inflating: pzd_5/2024-01-11.csv    \n,  inflating: pzd_5/2024-01-12.csv    \n,  inflating: pzd_5/2024-01-13.csv    \n,  inflating: pzd_5/2024-01-14.csv    \n,  inflating: pzd_5/2024-01-15.csv    \n,  inflating: pzd_5/2024-01-16.csv    \n,  inflating: pzd_5/2024-01-17.csv    \n,  inflating: pzd_5/2024-01-18.csv    \n,  inflating: pzd_5/2024-01-19.csv    \n,  inflating: pzd_5/2024-01-20.csv    \n,  inflating: pzd_5/2024-01-21.csv    \n,  inflating: pzd_5/2024-01-22.csv    \n,  inflating: pzd_5/2024-01-23.csv    \n,  inflating: pzd_5/2024-01-24.csv    \n,  inflating: pzd_5/2024-01-25.csv    \n,  inflating: pzd_5/2024-01-26.csv    \n,  inflating: pzd_5/2024-01-27.csv    \n,  inflating: pzd_5/2024-01-28.csv    \n,  inflating: pzd_5/2024-01-29.csv    \n,  inflating: pzd_5/2024-01-30.csv    \n,  inflating: pzd_5/2024-01-31.csv    \n"
        }
      ],
      "execution_count": 1
    },
    {
      "id": "039b6bfa-8f10-48e0-83e3-87b6f2c6537d",
      "cell_type": "code",
      "source": "import os\nimport pandas as pd",
      "metadata": {
        "trusted": true
      },
      "outputs": [],
      "execution_count": 1
    },
    {
      "id": "bc1f2aac-cece-4ae8-9f58-b412b4798bfd",
      "cell_type": "code",
      "source": "# Укажите путь к папке\nfolder_path = 'pzd_5'\n# Получаем список файлов в папке\nfiles = os.listdir(folder_path)",
      "metadata": {
        "trusted": true
      },
      "outputs": [],
      "execution_count": 2
    },
    {
      "id": "470e94a4-e895-45fe-ac7a-5bb946fd3642",
      "cell_type": "markdown",
      "source": "### Анализ данных EDA",
      "metadata": {}
    },
    {
      "id": "c07c9875-c339-45f9-85f0-33a45a49a6d8",
      "cell_type": "code",
      "source": "second_file = files[0]\nprint(second_file)\n\nfile_path = os.path.join(folder_path, second_file)\ndf = pd.read_csv(file_path)",
      "metadata": {
        "trusted": true
      },
      "outputs": [
        {
          "name": "stdout",
          "output_type": "stream",
          "text": "2022-01-02.csv\n"
        }
      ],
      "execution_count": 3
    },
    {
      "id": "c086ea53-356d-4ff9-92ab-bbe3dbff7352",
      "cell_type": "code",
      "source": "print(f'Кол-во дубликатов данных в файле: {df.duplicated().sum()}')\nprint(f'Кол-во пропущенных значений в файле: {df.isna().sum().sum()}')\ndf.isna().sum()",
      "metadata": {
        "trusted": true
      },
      "outputs": [
        {
          "name": "stdout",
          "output_type": "stream",
          "text": "Кол-во дубликатов данных в файле: 0\nКол-во пропущенных значений в файле: 12\n"
        },
        {
          "execution_count": 4,
          "output_type": "execute_result",
          "data": {
            "text/plain": "days_to_otp                          0\npzd_kolmst_К                         0\npzd_count_vag_К                      0\nkolsvm_К                             0\npzd_kolmst_Л                         4\npzd_count_vag_Л                      0\nkolsvm_Л                             1\npzd_kolmst_М                         0\npzd_count_vag_М                      0\nkolsvm_М                             4\npzd_count_vag_О                      0\npzd_kolmst_О                         0\nkolsvm_О                             0\npzd_count_vag_П                      0\npzd_kolmst_П                         0\nkolsvm_П                             0\npzd_count_vag_С                      0\npzd_kolmst_С                         0\nkolsvm_С                             0\ncum_count_tickets_by_pzd             0\ncum_count_tickets_lgot_255_by_pzd    0\ncum_count_tickets_lgot_by_pzd        0\nyear_dateotp                         0\nmonth_dateotp                        3\ndow_dateotp                          0\nseason                               0\nis_holyday                           0\nis_pre_holyday                       0\ncat_pre_holyday                      0\nschool_holyday                       0\ntarget_count_tickets_lgot_255        0\ntarget_count_tickets_lgot            0\ndelta_tickets_lgot_255               0\ndelta_tickets_lgot                   0\ndtype: int64"
          },
          "metadata": {}
        }
      ],
      "execution_count": 4
    },
    {
      "id": "999fc733-7c98-4ae7-b091-767adb2605d5",
      "cell_type": "code",
      "source": "columns_with_na = df.isna().sum()[df.isna().sum() > 0].index\ndf[columns_with_na].head()\n\ndf[columns_with_na] = df[columns_with_na].ffill()\ncolumns_with_na = df.isna().sum()[df.isna().sum() > 0].index\nprint(f'Кол-во пропущенных значений в файле: {df.isna().sum().sum()}')",
      "metadata": {
        "trusted": true
      },
      "outputs": [
        {
          "name": "stdout",
          "output_type": "stream",
          "text": "Кол-во пропущенных значений в файле: 0\n"
        }
      ],
      "execution_count": 5
    },
    {
      "id": "780ce7b6-7ce9-4351-bc24-ce8f24659032",
      "cell_type": "code",
      "source": "second_file = files[1]\nprint(second_file)\n\nfile_path = os.path.join(folder_path, second_file)\ndf = pd.read_csv(file_path)\n\n# Проверка числовых данных на допустимый диапазон\nfor column in df.select_dtypes(include=['float64', 'int64']).columns:\n    min_val, max_val = df[column].min(), df[column].max()\n    print(f\"Диапазон значений в столбце {column}: [{min_val}, {max_val}]\")",
      "metadata": {
        "trusted": true
      },
      "outputs": [
        {
          "name": "stdout",
          "output_type": "stream",
          "text": "2022-01-03.csv\nДиапазон значений в столбце days_to_otp: [0, 90]\nДиапазон значений в столбце pzd_kolmst_К: [850.0, 8500.0]\nДиапазон значений в столбце pzd_count_vag_К: [14.0, 14.0]\nДиапазон значений в столбце kolsvm_К: [158.0, 8500.0]\nДиапазон значений в столбце pzd_kolmst_Л: [0.0, 0.0]\nДиапазон значений в столбце pzd_count_vag_Л: [0.0, 0.0]\nДиапазон значений в столбце kolsvm_Л: [0.0, 0.0]\nДиапазон значений в столбце pzd_kolmst_М: [0.0, 0.0]\nДиапазон значений в столбце pzd_count_vag_М: [0.0, 0.0]\nДиапазон значений в столбце kolsvm_М: [0.0, 0.0]\nДиапазон значений в столбце pzd_count_vag_О: [-0.0664297810595067, 0.0725689724762148]\nДиапазон значений в столбце pzd_kolmst_О: [-0.033337334917752, 0.0282890772369353]\nДиапазон значений в столбце kolsvm_О: [0.0, 0.0]\nДиапазон значений в столбце pzd_count_vag_П: [0.0, 0.0]\nДиапазон значений в столбце pzd_kolmst_П: [0.0, 0.0]\nДиапазон значений в столбце kolsvm_П: [0.0, 0.0]\nДиапазон значений в столбце pzd_count_vag_С: [0.0, 0.0]\nДиапазон значений в столбце pzd_kolmst_С: [0.0, 0.0]\nДиапазон значений в столбце kolsvm_С: [0.0, 0.0]\nДиапазон значений в столбце cum_count_tickets_by_pzd: [0.0, 749.0]\nДиапазон значений в столбце cum_count_tickets_lgot_255_by_pzd: [0.0, 554.0]\nДиапазон значений в столбце cum_count_tickets_lgot_by_pzd: [0.0029022277269912, 194.9870821118942]\nДиапазон значений в столбце year_dateotp: [2022.0, 2022.0]\nДиапазон значений в столбце month_dateotp: [1.0, 1.0]\nДиапазон значений в столбце dow_dateotp: [1.0, 1.0]\nДиапазон значений в столбце season: [0.0, 0.0]\nДиапазон значений в столбце is_holyday: [1.0, 1.0]\nДиапазон значений в столбце is_pre_holyday: [0.0, 0.0]\nДиапазон значений в столбце cat_pre_holyday: [0.0, 0.0]\nДиапазон значений в столбце school_holyday: [0.0, 0.0]\nДиапазон значений в столбце target_count_tickets_lgot_255: [-3, 90]\nДиапазон значений в столбце target_count_tickets_lgot: [-1, 25]\nДиапазон значений в столбце delta_tickets_lgot_255: [90, 644]\nДиапазон значений в столбце delta_tickets_lgot: [4, 199]\n"
        }
      ],
      "execution_count": 7
    },
    {
      "id": "cedd3315-563e-4319-9d31-8fbf1eb565cb",
      "cell_type": "code",
      "source": "df[df.columns[:-4]] = df[df.columns[:-4]].round().abs()\n\nfor column in df.select_dtypes(include=['float64', 'int64']).columns:\n    min_val, max_val = df[column].min(), df[column].max()\n    print(f\"Диапазон значений в столбце {column}: [{min_val}, {max_val}]\")",
      "metadata": {
        "trusted": true
      },
      "outputs": [
        {
          "name": "stdout",
          "output_type": "stream",
          "text": "Диапазон значений в столбце days_to_otp: [0, 90]\nДиапазон значений в столбце pzd_kolmst_К: [850.0, 8500.0]\nДиапазон значений в столбце pzd_count_vag_К: [14.0, 14.0]\nДиапазон значений в столбце kolsvm_К: [158.0, 8500.0]\nДиапазон значений в столбце pzd_kolmst_Л: [0.0, 0.0]\nДиапазон значений в столбце pzd_count_vag_Л: [0.0, 0.0]\nДиапазон значений в столбце kolsvm_Л: [0.0, 0.0]\nДиапазон значений в столбце pzd_kolmst_М: [0.0, 0.0]\nДиапазон значений в столбце pzd_count_vag_М: [0.0, 0.0]\nДиапазон значений в столбце kolsvm_М: [0.0, 0.0]\nДиапазон значений в столбце pzd_count_vag_О: [0.0, 0.0]\nДиапазон значений в столбце pzd_kolmst_О: [0.0, 0.0]\nДиапазон значений в столбце kolsvm_О: [0.0, 0.0]\nДиапазон значений в столбце pzd_count_vag_П: [0.0, 0.0]\nДиапазон значений в столбце pzd_kolmst_П: [0.0, 0.0]\nДиапазон значений в столбце kolsvm_П: [0.0, 0.0]\nДиапазон значений в столбце pzd_count_vag_С: [0.0, 0.0]\nДиапазон значений в столбце pzd_kolmst_С: [0.0, 0.0]\nДиапазон значений в столбце kolsvm_С: [0.0, 0.0]\nДиапазон значений в столбце cum_count_tickets_by_pzd: [0.0, 749.0]\nДиапазон значений в столбце cum_count_tickets_lgot_255_by_pzd: [0.0, 554.0]\nДиапазон значений в столбце cum_count_tickets_lgot_by_pzd: [0.0, 195.0]\nДиапазон значений в столбце year_dateotp: [2022.0, 2022.0]\nДиапазон значений в столбце month_dateotp: [1.0, 1.0]\nДиапазон значений в столбце dow_dateotp: [1.0, 1.0]\nДиапазон значений в столбце season: [0.0, 0.0]\nДиапазон значений в столбце is_holyday: [1.0, 1.0]\nДиапазон значений в столбце is_pre_holyday: [0.0, 0.0]\nДиапазон значений в столбце cat_pre_holyday: [0.0, 0.0]\nДиапазон значений в столбце school_holyday: [0.0, 0.0]\nДиапазон значений в столбце target_count_tickets_lgot_255: [-3, 90]\nДиапазон значений в столбце target_count_tickets_lgot: [-1, 25]\nДиапазон значений в столбце delta_tickets_lgot_255: [90, 644]\nДиапазон значений в столбце delta_tickets_lgot: [4, 199]\n"
        }
      ],
      "execution_count": 8
    },
    {
      "id": "ca242de5-23ae-43d6-aa1e-05b9723831d3",
      "cell_type": "code",
      "source": "const_columns_pzd = [\n    'pzd_kolmst_К','pzd_count_vag_К',\n    'pzd_kolmst_Л','pzd_count_vag_Л',\n    'pzd_kolmst_М','pzd_count_vag_М',\n    'pzd_kolmst_О','pzd_count_vag_О',\n    'pzd_kolmst_П','pzd_count_vag_П',\n    'pzd_kolmst_С','pzd_count_vag_С',\n]\nconst_columns_date = [\n    'year_dateotp','month_dateotp', 'dow_dateotp','season',\n    'is_holyday', 'is_pre_holyday','cat_pre_holyday', 'school_holyday'\n]\ncolumns_pzd = [\n    'kolsvm_К','kolsvm_Л','kolsvm_М',\n    'kolsvm_О','kolsvm_П','kolsvm_С'\n]\n\ncolumns_cumcount = [\n    'cum_count_tickets_by_pzd',\n    'cum_count_tickets_lgot_255_by_pzd',\n    'cum_count_tickets_lgot_by_pzd'\n]\ntarget_columns = [\n    'target_count_tickets_lgot_255', 'target_count_tickets_lgot',\n    'delta_tickets_lgot_255','delta_tickets_lgot'\n]\nconst_columns = const_columns_pzd + const_columns_date\nvariable_columns = columns_pzd + columns_cumcount",
      "metadata": {
        "trusted": true
      },
      "outputs": [],
      "execution_count": 9
    },
    {
      "id": "47a85f41-ae1a-4bef-81ae-6d49e00305af",
      "cell_type": "code",
      "source": "for col in const_columns:\n    df[col] = df[col].median()\nfor column in df[const_columns].select_dtypes(include=['float64', 'int64']).columns:\n    min_val, max_val = df[column].min(), df[column].max()\n    print(f\"Диапазон значений в столбце {column}: [{min_val}, {max_val}]\")",
      "metadata": {
        "trusted": true
      },
      "outputs": [
        {
          "name": "stdout",
          "output_type": "stream",
          "text": "Диапазон значений в столбце pzd_kolmst_К: [850.0, 850.0]\nДиапазон значений в столбце pzd_count_vag_К: [14.0, 14.0]\nДиапазон значений в столбце pzd_kolmst_Л: [0.0, 0.0]\nДиапазон значений в столбце pzd_count_vag_Л: [0.0, 0.0]\nДиапазон значений в столбце pzd_kolmst_М: [0.0, 0.0]\nДиапазон значений в столбце pzd_count_vag_М: [0.0, 0.0]\nДиапазон значений в столбце pzd_kolmst_О: [0.0, 0.0]\nДиапазон значений в столбце pzd_count_vag_О: [0.0, 0.0]\nДиапазон значений в столбце pzd_kolmst_П: [0.0, 0.0]\nДиапазон значений в столбце pzd_count_vag_П: [0.0, 0.0]\nДиапазон значений в столбце pzd_kolmst_С: [0.0, 0.0]\nДиапазон значений в столбце pzd_count_vag_С: [0.0, 0.0]\nДиапазон значений в столбце year_dateotp: [2022.0, 2022.0]\nДиапазон значений в столбце month_dateotp: [1.0, 1.0]\nДиапазон значений в столбце dow_dateotp: [1.0, 1.0]\nДиапазон значений в столбце season: [0.0, 0.0]\nДиапазон значений в столбце is_holyday: [1.0, 1.0]\nДиапазон значений в столбце is_pre_holyday: [0.0, 0.0]\nДиапазон значений в столбце cat_pre_holyday: [0.0, 0.0]\nДиапазон значений в столбце school_holyday: [0.0, 0.0]\n"
        }
      ],
      "execution_count": 10
    },
    {
      "id": "8f29d95b-c6f1-4c88-96dd-5777ba1522fa",
      "cell_type": "code",
      "source": "df['cum_count_tickets_lgot_255_by_pzd'] = df['target_count_tickets_lgot_255'].cumsum().shift(1, fill_value=0)\ndf['cum_count_tickets_lgot_by_pzd'] = df['target_count_tickets_lgot'].cumsum().shift(1, fill_value=0)\ndf['cum_count_tickets_by_pzd'] = df['cum_count_tickets_lgot_255_by_pzd'] + df['cum_count_tickets_lgot_by_pzd']",
      "metadata": {
        "trusted": true
      },
      "outputs": [],
      "execution_count": 11
    },
    {
      "id": "e8e8e116-95e4-4f8a-85de-d0eae71c6113",
      "cell_type": "code",
      "source": "for column in df[columns_pzd].select_dtypes(include=['float64', 'int64']).columns:\n    min_val, max_val = df[column].min(), df[column].max()\n    print(f\"Диапазон значений в столбце {column}: [{min_val}, {max_val}]\")",
      "metadata": {
        "trusted": true
      },
      "outputs": [
        {
          "name": "stdout",
          "output_type": "stream",
          "text": "Диапазон значений в столбце kolsvm_К: [158.0, 8500.0]\nДиапазон значений в столбце kolsvm_Л: [0.0, 0.0]\nДиапазон значений в столбце kolsvm_М: [0.0, 0.0]\nДиапазон значений в столбце kolsvm_О: [0.0, 0.0]\nДиапазон значений в столбце kolsvm_П: [0.0, 0.0]\nДиапазон значений в столбце kolsvm_С: [0.0, 0.0]\n"
        }
      ],
      "execution_count": 12
    },
    {
      "id": "5b9fb5fe-1032-4b38-92d4-cdd19c423717",
      "cell_type": "code",
      "source": "df[df['kolsvm_К'] == 8500]",
      "metadata": {
        "trusted": true
      },
      "outputs": [
        {
          "execution_count": 13,
          "output_type": "execute_result",
          "data": {
            "text/plain": "    days_to_otp  pzd_kolmst_К  pzd_count_vag_К  kolsvm_К  pzd_kolmst_Л  \\\n13           77         850.0             14.0    8500.0           0.0   \n90            0         850.0             14.0    8500.0           0.0   \n\n    pzd_count_vag_Л  kolsvm_Л  pzd_kolmst_М  pzd_count_vag_М  kolsvm_М  ...  \\\n13              0.0       0.0           0.0              0.0       0.0  ...   \n90              0.0       0.0           0.0              0.0       0.0  ...   \n\n    dow_dateotp  season  is_holyday  is_pre_holyday  cat_pre_holyday  \\\n13          1.0     0.0         1.0             0.0              0.0   \n90          1.0     0.0         1.0             0.0              0.0   \n\n    school_holyday  target_count_tickets_lgot_255  target_count_tickets_lgot  \\\n13             0.0                              2                          3   \n90             0.0                             90                          4   \n\n    delta_tickets_lgot_255  delta_tickets_lgot  \n13                     606                 187  \n90                      90                   4  \n\n[2 rows x 34 columns]",
            "text/html": "<div>\n<style scoped>\n    .dataframe tbody tr th:only-of-type {\n        vertical-align: middle;\n    }\n\n    .dataframe tbody tr th {\n        vertical-align: top;\n    }\n\n    .dataframe thead th {\n        text-align: right;\n    }\n</style>\n<table border=\"1\" class=\"dataframe\">\n  <thead>\n    <tr style=\"text-align: right;\">\n      <th></th>\n      <th>days_to_otp</th>\n      <th>pzd_kolmst_К</th>\n      <th>pzd_count_vag_К</th>\n      <th>kolsvm_К</th>\n      <th>pzd_kolmst_Л</th>\n      <th>pzd_count_vag_Л</th>\n      <th>kolsvm_Л</th>\n      <th>pzd_kolmst_М</th>\n      <th>pzd_count_vag_М</th>\n      <th>kolsvm_М</th>\n      <th>...</th>\n      <th>dow_dateotp</th>\n      <th>season</th>\n      <th>is_holyday</th>\n      <th>is_pre_holyday</th>\n      <th>cat_pre_holyday</th>\n      <th>school_holyday</th>\n      <th>target_count_tickets_lgot_255</th>\n      <th>target_count_tickets_lgot</th>\n      <th>delta_tickets_lgot_255</th>\n      <th>delta_tickets_lgot</th>\n    </tr>\n  </thead>\n  <tbody>\n    <tr>\n      <th>13</th>\n      <td>77</td>\n      <td>850.0</td>\n      <td>14.0</td>\n      <td>8500.0</td>\n      <td>0.0</td>\n      <td>0.0</td>\n      <td>0.0</td>\n      <td>0.0</td>\n      <td>0.0</td>\n      <td>0.0</td>\n      <td>...</td>\n      <td>1.0</td>\n      <td>0.0</td>\n      <td>1.0</td>\n      <td>0.0</td>\n      <td>0.0</td>\n      <td>0.0</td>\n      <td>2</td>\n      <td>3</td>\n      <td>606</td>\n      <td>187</td>\n    </tr>\n    <tr>\n      <th>90</th>\n      <td>0</td>\n      <td>850.0</td>\n      <td>14.0</td>\n      <td>8500.0</td>\n      <td>0.0</td>\n      <td>0.0</td>\n      <td>0.0</td>\n      <td>0.0</td>\n      <td>0.0</td>\n      <td>0.0</td>\n      <td>...</td>\n      <td>1.0</td>\n      <td>0.0</td>\n      <td>1.0</td>\n      <td>0.0</td>\n      <td>0.0</td>\n      <td>0.0</td>\n      <td>90</td>\n      <td>4</td>\n      <td>90</td>\n      <td>4</td>\n    </tr>\n  </tbody>\n</table>\n<p>2 rows × 34 columns</p>\n</div>"
          },
          "metadata": {}
        }
      ],
      "execution_count": 13
    },
    {
      "id": "0b403748-42cf-47b9-ba26-2c694a6d2f1a",
      "cell_type": "code",
      "source": "for col in columns_pzd:\n    if df[col].dtype in [int, float]:\n        type_vag = col.split('_')[1]\n        threshold_value = df[f'pzd_kolmst_{type_vag}'].median()\n        drop_index = df[df[col] > threshold_value].index        \n        df.drop(drop_index, axis=0, inplace=True)",
      "metadata": {
        "trusted": true
      },
      "outputs": [],
      "execution_count": 14
    },
    {
      "id": "b29c6d39-a92c-4b3d-854c-616fb72ae853",
      "cell_type": "code",
      "source": "for column in df[columns_pzd].select_dtypes(include=['float64', 'int64']).columns:\n    min_val, max_val = df[column].min(), df[column].max()\n    print(f\"Диапазон значений в столбце {column}: [{min_val}, {max_val}]\")",
      "metadata": {
        "trusted": true
      },
      "outputs": [
        {
          "name": "stdout",
          "output_type": "stream",
          "text": "Диапазон значений в столбце kolsvm_К: [158.0, 850.0]\nДиапазон значений в столбце kolsvm_Л: [0.0, 0.0]\nДиапазон значений в столбце kolsvm_М: [0.0, 0.0]\nДиапазон значений в столбце kolsvm_О: [0.0, 0.0]\nДиапазон значений в столбце kolsvm_П: [0.0, 0.0]\nДиапазон значений в столбце kolsvm_С: [0.0, 0.0]\n"
        }
      ],
      "execution_count": 15
    },
    {
      "id": "f98af067-c91b-4422-8111-a415aa87b0a5",
      "cell_type": "code",
      "source": "for column in df.select_dtypes(include=['float64', 'int64']).columns:\n    min_val, max_val = df[column].min(), df[column].max()\n    print(f\"Диапазон значений в столбце {column}: [{min_val}, {max_val}]\")",
      "metadata": {
        "trusted": true
      },
      "outputs": [
        {
          "name": "stdout",
          "output_type": "stream",
          "text": "Диапазон значений в столбце days_to_otp: [1, 90]\nДиапазон значений в столбце pzd_kolmst_К: [850.0, 850.0]\nДиапазон значений в столбце pzd_count_vag_К: [14.0, 14.0]\nДиапазон значений в столбце kolsvm_К: [158.0, 850.0]\nДиапазон значений в столбце pzd_kolmst_Л: [0.0, 0.0]\nДиапазон значений в столбце pzd_count_vag_Л: [0.0, 0.0]\nДиапазон значений в столбце kolsvm_Л: [0.0, 0.0]\nДиапазон значений в столбце pzd_kolmst_М: [0.0, 0.0]\nДиапазон значений в столбце pzd_count_vag_М: [0.0, 0.0]\nДиапазон значений в столбце kolsvm_М: [0.0, 0.0]\nДиапазон значений в столбце pzd_count_vag_О: [0.0, 0.0]\nДиапазон значений в столбце pzd_kolmst_О: [0.0, 0.0]\nДиапазон значений в столбце kolsvm_О: [0.0, 0.0]\nДиапазон значений в столбце pzd_count_vag_П: [0.0, 0.0]\nДиапазон значений в столбце pzd_kolmst_П: [0.0, 0.0]\nДиапазон значений в столбце kolsvm_П: [0.0, 0.0]\nДиапазон значений в столбце pzd_count_vag_С: [0.0, 0.0]\nДиапазон значений в столбце pzd_kolmst_С: [0.0, 0.0]\nДиапазон значений в столбце kolsvm_С: [0.0, 0.0]\nДиапазон значений в столбце cum_count_tickets_by_pzd: [0, 693]\nДиапазон значений в столбце cum_count_tickets_lgot_255_by_pzd: [0, 505]\nДиапазон значений в столбце cum_count_tickets_lgot_by_pzd: [0, 188]\nДиапазон значений в столбце year_dateotp: [2022.0, 2022.0]\nДиапазон значений в столбце month_dateotp: [1.0, 1.0]\nДиапазон значений в столбце dow_dateotp: [1.0, 1.0]\nДиапазон значений в столбце season: [0.0, 0.0]\nДиапазон значений в столбце is_holyday: [1.0, 1.0]\nДиапазон значений в столбце is_pre_holyday: [0.0, 0.0]\nДиапазон значений в столбце cat_pre_holyday: [0.0, 0.0]\nДиапазон значений в столбце school_holyday: [0.0, 0.0]\nДиапазон значений в столбце target_count_tickets_lgot_255: [-3, 49]\nДиапазон значений в столбце target_count_tickets_lgot: [-1, 25]\nДиапазон значений в столбце delta_tickets_lgot_255: [139, 644]\nДиапазон значений в столбце delta_tickets_lgot: [11, 199]\n"
        }
      ],
      "execution_count": 16
    },
    {
      "id": "28cbb967-efaa-4997-97b1-39710afe6f1b",
      "cell_type": "markdown",
      "source": "### Подготовка датасета",
      "metadata": {}
    },
    {
      "id": "e81da11b-d2f4-45d0-a193-5cdfc5463cd6",
      "cell_type": "code",
      "source": "def prepair_dataset(data: pd.DataFrame) -> pd.DataFrame:\n    pass\n    return data",
      "metadata": {},
      "outputs": [],
      "execution_count": null
    },
    {
      "id": "837de3de-9298-430e-9d93-22b68fd9a210",
      "cell_type": "code",
      "source": "def create_features(data: pd.DataFrame) -> pd.DataFrame:\n    pass\n    return data",
      "metadata": {},
      "outputs": [],
      "execution_count": null
    },
    {
      "id": "2e86f428-4487-4000-93cc-bd9aa897fc85",
      "cell_type": "code",
      "source": "for name_files in files:\n    file_path = os.path.join(folder_path, name_files)\n    df = pd.read_csv(file_path)    \n    df_prep = prepair_dataset(df)\n    df_new = create_features(df_prep)\n    break",
      "metadata": {},
      "outputs": [],
      "execution_count": null
    }
  ]
}